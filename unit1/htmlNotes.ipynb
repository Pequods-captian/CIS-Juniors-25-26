{
 "cells": [
  {
   "cell_type": "markdown",
   "id": "d639e271",
   "metadata": {},
   "source": [
    "# Introduction to html"
   ]
  },
  {
   "cell_type": "markdown",
   "id": "da3375af",
   "metadata": {},
   "source": [
    "## HTML defined\n",
    "\n",
    "**HTML** - Hypertext Markup Language - This is the language used to describe your content.\n",
    "\n",
    "**CSS** - Cascading style sheets - This is the language used to design the way your content looks on the web.\n",
    "\n",
    "**Javascript** - NOT to be confused with Java - JS is the language used for adding interactiblity to web pages.\n",
    "\n",
    "### These are the three main web languages"
   ]
  },
  {
   "cell_type": "markdown",
   "id": "8556f848",
   "metadata": {},
   "source": [
    "### Web Browsers\n",
    "\n",
    "* A software used for browsing, Reading and Translating Web Documents\n",
    "* Examples of web browsers:\n",
    "    * Google Chrome\n",
    "    * Microsoft Edge\n",
    "    * Firefox\n",
    "    * Opera GX\n",
    "    * Safari\n",
    "    * Duck Duck Go\n",
    "    * Brave\n",
    "    * Internet Exploerer (MS) - Depricated\n",
    "    * Netscape - Depricated\n",
    "* Why you do not use old or UN-Updated Browsers\n",
    "    * Security - Security Updates"
   ]
  },
  {
   "cell_type": "markdown",
   "id": "7ff89d38",
   "metadata": {},
   "source": [
    "### HTML Skeleton/Structure\n",
    "\n",
    "#### See index.html in this folder\n",
    "\n",
    "### Structure of an HTML Tag\n",
    "\n",
    "\n",
    "< meta charset=\"HTU-8\" >\n",
    "\n",
    "* Tag Name\n",
    "* Attribute(s)\n",
    "* Attribute Values"
   ]
  },
  {
   "cell_type": "markdown",
   "id": "879d8244",
   "metadata": {},
   "source": [
    "### Key Concwpts of HTML\n",
    "\n",
    "* Most HTML Tags have and opening & Closing Tag\n",
    "* HTML Elements - These are created by a complete pair of tags with content\n",
    "* Attributes - This is additional Information about the elements\n",
    "\n",
    "#### Essental HTML Elements\n",
    "\n",
    "* < h1 >< /h1 > Through < h6 >< /h6 > - Headings, H1 is the largest by default and H6 is the smallest\n",
    "* < P >< /p > - Paragraph Element\n",
    "* < br > - Non-Closing tag, Line Break"
   ]
  },
  {
   "cell_type": "markdown",
   "id": "6b9afb9e",
   "metadata": {},
   "source": []
  }
 ],
 "metadata": {
  "language_info": {
   "name": "python"
  }
 },
 "nbformat": 4,
 "nbformat_minor": 5
}
